{
 "cells": [
  {
   "cell_type": "code",
   "execution_count": null,
   "metadata": {},
   "outputs": [],
   "source": [
    "# ----------------- Coleções -----------------\n",
    "# Variáveis que guardam um ou mais elementos"
   ]
  },
  {
   "cell_type": "code",
   "execution_count": null,
   "metadata": {},
   "outputs": [],
   "source": [
    "# Listas\n",
    "# sort e reverse\n",
    "# O sort coloca a lista na ordem. Listas com strings não fazem sort se tiverem números ou booleanos junto. Já o reverse inverte a ordem da lista. Aquele \"elemento[::-1]\" que inverte strings também funciona com listas\n",
    "\n",
    "lista_strings = [\"babana\", \"maçãs\", \"Morango\"]\n",
    "lista_nums_bool = [5, 4, True, 1.5]\n",
    "lista_caracteres = [\"#\", \" \", \"$\"]\n",
    "\n",
    "lista_nums_bool.sort()\n",
    "print(f'sort: {lista_nums_bool}')\n",
    "lista_nums_bool.reverse()\n",
    "print(f'reverse: {lista_nums_bool}')\n",
    "\n",
    "lista_tudo = lista_strings + lista_caracteres\n",
    "lista_tudo.sort()\n",
    "print(f'sort de tudo: {lista_tudo}')\n"
   ]
  },
  {
   "cell_type": "code",
   "execution_count": null,
   "metadata": {},
   "outputs": [],
   "source": [
    "# append, extend e insert\n",
    "# O append adiciona dados a uma lista, sendo eles números ou coleções. Porém, caso seja uma coleção, seus valores não poderão ser acessados por um índice \"linear\", e sim como se fosse de uma matriz\n",
    "# Nesse caso, quem adiciona os objetos diretamente é o extend, que funciona como se fosse um nova_lista = lista + lista\n",
    "# Já o insert adiciona elementos escolhendo qual índice ela vai ocupar, sem substituir o valor que estava nesse índice antes. É um append com índice\n",
    "\n",
    "lista_frutas = [\"babana\", \"maçãs\", \"Morango\"]\n",
    "tupla_frutas = (\"limão\", \"uva\")\n",
    "set_frutas = {\"maracujá\", \"kiwi\"}\n",
    "\n",
    "print(f'lista_frutas: {lista_frutas}')\n",
    "lista_frutas.append(tupla_frutas)\n",
    "print(f'append lista_frutas: {lista_frutas}')\n",
    "lista_frutas.extend(set_frutas)\n",
    "print(f'extend lista_frutas: {lista_frutas}\\n')\n",
    "lista_frutas.insert(0, 'maracujá')\n",
    "print(f'insert no 0 da lista_frutas: {lista_frutas}')\n",
    "lista_frutas.insert(0, ['uva', 'pera'])\n",
    "print(f'insert no 0 da lista_frutas 2: {lista_frutas}')\n"
   ]
  },
  {
   "cell_type": "code",
   "execution_count": null,
   "metadata": {},
   "outputs": [],
   "source": [
    "# Tuplas\n",
    "# Características:\n",
    "# - Representadas pelo (), sua criação é definida pelas vírgulas\n",
    "# - Não podem ser alteradas, são imutáveis, ou seja, não se pode adicionar, remover e nem substituir por novos valores nelas, porém, podem ser concatenadas e sobrescritas sem fazer Shallow Copy\n",
    "# - São mais rápidas e seguras que as listas\n",
    "# - São interessantes para serem utilizadas como chaves de dicionários\n",
    "# - São usadas quando não precisamos alterar os valores de uma coleção\n",
    "# - Seus valores podem ser acessados pelo índice\n",
    "\n",
    "tupla = 4, 5,  # também podem ser montadas dessa forma\n",
    "print(tupla[1])\n",
    "\n",
    "outra_tupla = (6)  # se conter somente um número, vai ser uma variável int, não uma tupla\n",
    "print(f\"type outra_tupla: {type(outra_tupla)}\")\n",
    "\n",
    "mais_outra_tupla = (7,)  # porém, se conter uma vírgula, vai ser tupla\n",
    "print(f\"type mais_outra_tupla: {type(mais_outra_tupla)}\")\n",
    "\n",
    "print(f'\\ntupla antiga: {tupla}')\n",
    "\n",
    "nova_tupla = (5, 6) + (10, 11)  # concatenando\n",
    "tupla = nova_tupla  # sobrescrevendo\n",
    "\n",
    "print(f'nova_tupla: {nova_tupla}')\n",
    "print(f'tupla agora: {tupla}')"
   ]
  },
  {
   "cell_type": "code",
   "execution_count": null,
   "metadata": {},
   "outputs": [],
   "source": [
    "# Dicionários (dict)\n",
    "# Características:\n",
    "# - Representados por {chave:valor}. As chaves e os valores podem ser de qualquer tipo de dado\n",
    "# - Seus valores não podem ser acessados pelo índice, e sim pelas chaves\n",
    "# - As chaves não podem ser repetidas\n",
    "# - As coleções ficam mais detalhadas e definidas\n",
    "\n",
    "dicio = {'kiwi': 'verde', 'morango': 'vermelho', 'laranja': 'laranja'}\n",
    "mesmo_dicio = dict(kiwi='verde', morango='vermelho', laranja='laranja')\n",
    "\n",
    "# Acessando valores pelas chaves\n",
    "print(f'dicio: {dicio[\"kiwi\"]}')\n",
    "print(f'mesmo_dicio com get: {mesmo_dicio.get(\"kiwi\")}')\n",
    "# print(f'dicio com chave inválida: {dicio[\"maracujá\"]}')  # KeyError, por isso get é mais recomendado de usar\n",
    "print(f'mesmo_dicio com get chave inválida: {mesmo_dicio.get(\"maracujá\")}')\n",
    "print(f'mesmo_dicio com get chave inválida 2: {mesmo_dicio.get(\"maracujá\", \"fruta não encontrada\")}')\n",
    "\n",
    "print(f\"\\nkiwi in dicio? {'kiwi' in dicio}\")\n",
    "print(f\"verde in dicio? {'verde' in dicio}\") # só detecta a chave"
   ]
  },
  {
   "cell_type": "code",
   "execution_count": null,
   "metadata": {},
   "outputs": [],
   "source": [
    "# keys e values\n",
    "dicio = {'kiwi': 'verde', 'morango': 'vermelho', 'laranja': 'laranja'}\n",
    "\n",
    "print(dicio.keys())\n",
    "print(dicio.values())\n",
    "\n",
    "# Desempacotando\n",
    "print()\n",
    "for chave, valor in dicio.items():\n",
    "    print(f\"fruta: {chave}, cor: {valor}\")\n",
    "\n",
    "# Criando dicionários com fromkeys\n",
    "outro_dicio = {}.fromkeys(\"a\", \"vazio\")\n",
    "\n",
    "mais_um_dicio = {}.fromkeys(range(1, 11), \"vazio\")\n",
    "\n",
    "mais_outro_dicio = {}.fromkeys([\"a\", \"b\", \"c\"], \"vazio\")\n",
    "\n",
    "print(f'\\noutro_dicio: {outro_dicio}')\n",
    "print(f'mais_um_dicio: {mais_um_dicio}')\n",
    "print(f'mais_outro_dicio: {mais_outro_dicio}')"
   ]
  },
  {
   "cell_type": "code",
   "execution_count": null,
   "metadata": {},
   "outputs": [],
   "source": [
    "# default, update, pop e del\n",
    "dicio = {'kiwi': 'verde', 'morango': 'vermelho', 'laranja': 'laranja'}\n",
    "\n",
    "# Adicionando/atualizando elementos\n",
    "dicio['maracujá'] = 'amarelo'\n",
    "print(f'dicio com maracujá: {dicio}')\n",
    "\n",
    "dicio.update({'maracujá': 'roxo'})\n",
    "print(f'dicio atualizado: {dicio}')\n",
    "\n",
    "# Removendo elementos\n",
    "dicio.pop('kiwi')  # usa a chave como referência, se não existir = KeyError. Retorna o valor\n",
    "print(f'\\ndicio pós pop: {dicio}')\n",
    "\n",
    "del dicio['laranja']  # Nesse modo o valor não é retornado e se a chave não existir, vai dar KeyError\n",
    "print(f'dicio pós del: {dicio}') "
   ]
  },
  {
   "cell_type": "code",
   "execution_count": null,
   "metadata": {},
   "outputs": [],
   "source": [
    "# Conjuntos (set)\n",
    "# Características:\n",
    "# - Representados pelos {}\n",
    "# - Não possuem valores ordenados e nem duplicados\n",
    "# - Não são indexados, pois possuem ordem aleatória\n",
    "\n",
    "conjunto = {3, 6, 9}\n",
    "\n",
    "# Adicionando elementos\n",
    "conjunto.add(12)\n",
    "conjunto.add(3)  # Como o valor 3 já existe nesse conjunto, ele não será adicionado\n",
    "print(f'conjunto pós add: {conjunto}')\n",
    "\n",
    "# Removendo elementos\n",
    "conjunto.remove(6)  # se o valor não existir dentro do conjunto, dará KeyError\n",
    "# conjunto.remove(66)  # KeyError\n",
    "conjunto.discard(66)  # se o valor não existir dentro do conjunto, não vai gerar erro, o python ignora\n",
    "print(f'conjunto pós remove e discard: {conjunto}')\n",
    "\n",
    "# Teoria dos Conjuntos\n",
    "outro_conjunto = {6, 9, 12, 15}\n",
    "\n",
    "# union\n",
    "# Armazena todos os números dos sets usados\n",
    "print(f'\\nusando método union: {conjunto.union(outro_conjunto)}')\n",
    "print(f'usando | (pipe): {outro_conjunto | conjunto}')\n",
    "\n",
    "# intersection\n",
    "# Armazena somente os números que possuem em ambos os sets\n",
    "print(f'\\nusando método intersection: {conjunto.intersection(outro_conjunto)}')\n",
    "print(f'usando &: {outro_conjunto & conjunto}')\n",
    "\n",
    "# difference\n",
    "# Deixa somente os números que só tem no primeiro conjunto citado, removendo tudo que o outro conjunto tem e pode ser comum\n",
    "print(f'\\nnúmeros que só estão conjunto: {conjunto.difference(outro_conjunto)}')\n",
    "print(f'números que só estão outro_conjunto: {outro_conjunto.difference(conjunto)}')"
   ]
  },
  {
   "cell_type": "code",
   "execution_count": null,
   "metadata": {},
   "outputs": [],
   "source": [
    "# ------------------- None -------------------\n",
    "# O tipo None é um tipo sem tipo. Ele não é vazio, ele só é sem tipo. Ele serve para quando é necessário criar uma variável sem um tipo ou valor final. É melhor trabalhar com None do que o código retornar algum erro. Além disso, ele retorna False\n",
    "\n",
    "frutas = dict(ban=\"banana\", mor=\"morango\", lim=\"limão\")\n",
    "\n",
    "# print(frutas[\"mar\"])  # aqui, se a chave não existir, vai dar keyError\n",
    "print(f'get lar: {frutas.get(\"lar\")}')  # já aqui com o get, se a chave não existir, é retornado None em vez de keyError\n",
    "print(f'get ban: {frutas.get(\"ban\")}\\n')\n",
    "\n",
    "fruta1 = frutas.get(\"lar\")  # = None = False\n",
    "if fruta1:\n",
    "    print(f\"encontrei {fruta1}!\")\n",
    "else:\n",
    "    print(\"fruta1 indisponível...\") \n",
    "\n",
    "fruta2 = frutas.get(\"mor\")  # = morango\n",
    "\n",
    "print(f'encontrei fruta2: {fruta2}!' if True else 'fruta indisponível...')"
   ]
  },
  {
   "cell_type": "code",
   "execution_count": null,
   "metadata": {},
   "outputs": [],
   "source": [
    "# ---------------- Collections ----------------\n",
    "# Módulo python com métodos úteis para manipular coleções"
   ]
  },
  {
   "cell_type": "code",
   "execution_count": null,
   "metadata": {},
   "outputs": [],
   "source": [
    "# Counter\n",
    "# Cria um dicionário de uma lista já pronta. Ele pega os elementos dessa lista, transforma cada um em uma chave, e o valor é o quanto de vezes esse elemento na chave se repete. Ele também pode contar palavras em um texto, porém, antes é necessário armazená-las numa lista usando o split\n",
    "from collections import Counter\n",
    "\n",
    "nums = 53251\n",
    "palavra = 'jabuticaba'\n",
    "frase = 'sucO de Morango com limão'\n",
    "lista_frase = frase.split()\n",
    "lista = ['jabuticaba', 11, 'maracujá', 2, 'morango', 1, 'limão', 'limão', 1]\n",
    "\n",
    "# counter_nums = Counter(nums)  # TypeError, o Counter não pode ser aplicado em type int/float\n",
    "counter_palavra = Counter(palavra)\n",
    "counter_frase = Counter(frase)\n",
    "counter_lista_frase = Counter(lista_frase)\n",
    "counter_lista = Counter(lista)\n",
    "\n",
    "# print(counter_nums)\n",
    "print(f'palavra: {counter_palavra}')\n",
    "print(f'frase: {counter_frase}')  # diferencia maiúsculas de minúsculas\n",
    "print(f'lista_frase: {counter_lista_frase}')\n",
    "print(f'lista: {counter_lista}')\n",
    "print(f'lista chave limão: {counter_lista[\"limão\"]}')"
   ]
  },
  {
   "cell_type": "code",
   "execution_count": null,
   "metadata": {},
   "outputs": [],
   "source": [
    "# Default Dict\n",
    "# Serve para criar um dicionário onde, caso não haja a chave declarada pelo usuário, ele repasse um valor padrão através de um lambda. Se não fosse um default dict, daria keyError\n",
    "from collections import defaultdict\n",
    "\n",
    "error_dict = {'chave': 'valor'}\n",
    "default_dict = defaultdict(lambda: 'valor_padrao')\n",
    "default_dict['chave'] = 'valor'\n",
    "\n",
    "# print(error_dict['outra_chave'])  # KeyError\n",
    "print(f'error_dict: {error_dict.get(\"outra_chave\")}')  # método para não usar o defaultdict\n",
    "print(f'default_dict: {default_dict[\"outra_chave\"]}')"
   ]
  },
  {
   "cell_type": "code",
   "execution_count": null,
   "metadata": {},
   "outputs": [],
   "source": [
    "# Ordered Dict\n",
    "# Meio inútil, só serve para conferir se os dicionários em comparação estão dispostos na mesma ordem\n",
    "from collections import OrderedDict\n",
    "\n",
    "ordered_dict1 = OrderedDict({'a': 1, 'c': 3, 'd': 4, 'b': 2, 'aa': 11})\n",
    "ordered_dict2 = OrderedDict({'a': 1, 'aa': 11, 'b': 2, 'c': 3, 'd': 4})\n",
    "normal_dict = {'a': 1, 'c': 3, 'aa': 11, 'd': 4, 'b': 2}\n",
    "\n",
    "print(ordered_dict1)\n",
    "print(ordered_dict1['a'])\n",
    "print(ordered_dict1 == normal_dict)  # True, a ordem dos elementos não importa para o dicionário comum\n",
    "print(ordered_dict1 == ordered_dict2)  # False, a ordem dos elementos importa para o OrderedDict"
   ]
  },
  {
   "cell_type": "code",
   "execution_count": null,
   "metadata": {},
   "outputs": [],
   "source": [
    "# Named Tuple\n",
    "# Serve para nomear elementos de uma tupla, funciona como uma chave\n",
    "from collections import namedtuple\n",
    "\n",
    "sorvete = namedtuple(\"sorvete\", ['sabor', 'preco', 'kgs'])\n",
    "morango = sorvete(sabor=\"morango\", preco=3, kgs=4)  # para achar o valor Morango, por exemplo, não precisa ir pelo índice morango[0], pode ser morango.sabor mais intuitivo\n",
    "\n",
    "print(f'sabor 1: {morango[0]}')\n",
    "print(f'sabor 2: {morango.sabor}')\n",
    "print(f'preço: {morango.preco}')\n",
    "print(f'kgs: {morango.kgs}')"
   ]
  },
  {
   "cell_type": "code",
   "execution_count": null,
   "metadata": {},
   "outputs": [],
   "source": [
    "# Deque\n",
    "# É uma lista de alta performance, possui append e pop personalizados, como .appendleft() e .popleft(). tem outras características, vale olhar a documentação\n",
    "from collections import deque\n",
    "\n",
    "fruta = deque(\"toranja\")\n",
    "\n",
    "fruta.popleft()\n",
    "fruta.popleft()\n",
    "fruta.appendleft('a')\n",
    "fruta.appendleft('l')\n",
    "\n",
    "print(fruta)\n",
    "\n",
    "palavra = ''.join(fruta)\n",
    "\n",
    "print(f'usando join com o deque: {palavra}')"
   ]
  },
  {
   "cell_type": "code",
   "execution_count": null,
   "metadata": {},
   "outputs": [],
   "source": [
    "# ------------------ Funções ------------------\n",
    "# Funcionam como um 'modelo' de funcionalidades que serão repetidas ao longo do sistema\n",
    "# Uma função pode ou não ter retorno\n",
    "# Podem ou não ter os seguintes parâmetros: obrigatórios, *args, default parameters e **kwargs"
   ]
  },
  {
   "cell_type": "code",
   "execution_count": null,
   "metadata": {},
   "outputs": [],
   "source": [
    "# *args\n",
    "# Características:\n",
    "# - Serve para uma função receber argumentos ilimitados \n",
    "# - Transforma esses elementos em tuplas, então, é necessário saber as regras das tuplas\n",
    "# - Quando é passado uma coleção como parâmetro, se colocado um * antes do argumento, o python pega a coleção passada e desempacota automaticamente\n",
    "\n",
    "def soma_todos_numeros(*args):\n",
    "    print(type(args))\n",
    "    return sum(args)\n",
    "\n",
    "\n",
    "print(f'usando ints: {soma_todos_numeros(6, 10, 4, 4)}')\n",
    "print(f'usando lista: {soma_todos_numeros(*[6, 10, 4, 4])}')  # funciona da mesma forma para tuplas, sets e chaves de dicionários; porém, é importante ter conhecimento das peculiaridades de cada coleção"
   ]
  },
  {
   "cell_type": "code",
   "execution_count": null,
   "metadata": {},
   "outputs": [],
   "source": [
    "# **kwargs\n",
    "# Características:\n",
    "# - Também serve para uma função receber argumentos ilimitados, sempre prestando atenção no seu tipo e quantidade para evitar erros\n",
    "# - Transforma esses elementos em elementos de um dicionário, então, é necessário saber as regras dos dicionários\n",
    "# Obs: para desempacotar um dicionário usando **, é necessário que as chaves do dicionário tenham a mesma nomenclatura que os parâmetros da função\n",
    "\n",
    "def frutas1(a, b, **kwargs):\n",
    "    return f\"Na {a} tem: {kwargs}. Fora dela tem {b}.\"\n",
    "\n",
    "print(frutas1('cesta', 'banana', m='maracujá', k='kiwi', l='laranja'))\n",
    "print(frutas1('cesta', b='banana', m='maracujá', k='kiwi', l='laranja')) # mesmo q o b na teoria teria q funcionar como uma chave/valor de um dict, essa sintaxe também funciona para atribuir a um parâmetro específico \n",
    "\n",
    "# Exemplo mais complexo\n",
    "def frutas2(fruta_principal, qtd, *args, madura=False, **kwargs):\n",
    "    print(f'\\nComprei {qtd} unidades de {fruta_principal},', end= ' ')\n",
    "    if madura:\n",
    "        print('que já estão maduras, então já vou poder comer em casa!')\n",
    "    else:\n",
    "        print('mas vou ter que esperar amadurecerem :(.')\n",
    "    print(f'Comprei também {args} e outras coisas: {kwargs}.')\n",
    "\n",
    "\n",
    "frutas2('maracujá', 5, 'banana', 'uva', 'pera', cozinha='faca', banheiro='papel higiênico', quarto='lençol')\n",
    "frutas2('kiwi', 2, 'pera', madura=True, quarto='fronha')\n",
    "frutas2('morango', 10, cozinha='panela')"
   ]
  },
  {
   "cell_type": "code",
   "execution_count": null,
   "metadata": {},
   "outputs": [],
   "source": [
    "# ------------- Comprehensions -------------\n",
    "# Forma avançada de manipular coleções\n",
    "# E a Tuple Comprehension? A Tuple Comprehension nada mais é que um Generator Expression, que vai ser visto mais para frente. Mas já adiantando, assim como as tuplas, ela tem uma performance (ainda) melhor na memória, já que é limitado"
   ]
  },
  {
   "cell_type": "code",
   "execution_count": null,
   "metadata": {},
   "outputs": [],
   "source": [
    "# List Comprehension\n",
    "# A modificação feita pela comprehension é armazenada em uma lista, senão gera um generator\n",
    "\n",
    "# Exemplo\n",
    "def funcao(valor):\n",
    "    return valor * valor\n",
    "\n",
    "\n",
    "numeros = [1, 2, 3, 4, 5]\n",
    "\n",
    "modificacao = [i * 2 for i in numeros]\n",
    "modificacao2 = [funcao(i) for i in numeros]\n",
    "\n",
    "print(f'sem armazenar a comprehension numa lista: {i * 2 for i in numeros}')\n",
    "\n",
    "print(f'\\nmodificacao: {modificacao}')\n",
    "print(f\"processo da modificacao: {[f'{i} * 2' for i in numeros]}\")\n",
    "print(f'modificacao2: {modificacao2}')\n",
    "print(f\"processo da modificacao2: {[f'{i} * {i}' for i in numeros]}\")\n",
    "\n",
    "# faça tal coisa | para cada elemento | dessa lista\n",
    "#          i * 2 |       for i        | in numeros\n",
    "#      funcao(i) |       for i        | in numeros"
   ]
  },
  {
   "cell_type": "code",
   "execution_count": null,
   "metadata": {},
   "outputs": [],
   "source": [
    "# Outros exemplos\n",
    "# Mais simples:\n",
    "frutas = [\"uva\", \"kiwi\", \"banana\", \"morango\"]\n",
    "print([fruta.capitalize() for fruta in frutas])\n",
    "\n",
    "print([numero * 3 for numero in range(1, 10)])\n",
    "\n",
    "print([str(numero) for numero in [1, 2, 3, 4]])\n",
    "\n",
    "# Mais complexo:\n",
    "numeros = [1, 2, 3, 4, 5]\n",
    "\n",
    "pares = [numero for numero in numeros if numero % 2 == 0]\n",
    "impares = [numero for numero in numeros if numero % 2 != 0]\n",
    "\n",
    "# armazene número | para cada número | nessa lista | se número tiver resto 0 quando dividido por 2\n",
    "#          numero |    for numero    | in numeros  | if numero % 2 == 0\n",
    "\n",
    "# armazene número | para cada número | nessa lista | se número tiver resto diferente de 0 quando dividido por 2\n",
    "#          numero |    for numero    | in numeros  | if numero % 2 != 0\n",
    "\n",
    "print(f'\\npares: {pares}')\n",
    "print(f'impares: {impares}')"
   ]
  },
  {
   "cell_type": "code",
   "execution_count": null,
   "metadata": {},
   "outputs": [],
   "source": [
    "# Dictionary Comprehension\n",
    "# A modificação feita pela comprehension é armazenada em um dicionário\n",
    "\n",
    "# Exemplo usando dicionário e dicionário\n",
    "dicio = {\"a\": 1, \"b\": 2, \"c\": 3, \"d\": 4}\n",
    "novo_dicio = {chave * 3: valor * 2 for chave, valor in dicio.items()}\n",
    "\n",
    "# armazene chave * 3 | com valor * 2 | para cada chave e valor | nesse dicionário\n",
    "#         chave * 3: |   valor * 2   |     for chave, valor    | in dicionario.items()\n",
    "\n",
    "print(f'novo_dicio: {novo_dicio}')\n",
    "\n",
    "# Exemplo usando lista e dicionário\n",
    "lista = [1, 2, 3, 4]\n",
    "quadrados = {valor: valor ** 2 for valor in lista}\n",
    "\n",
    "print(f'quadrados: {quadrados}')"
   ]
  },
  {
   "cell_type": "code",
   "execution_count": null,
   "metadata": {},
   "outputs": [],
   "source": [
    "# Outros exemplos\n",
    "chaves = \"abcd\"\n",
    "valores = [1, 2, 3, 4]\n",
    "\n",
    "dicio = {chaves[i]: valores[i] for i in range(len(chaves))}\n",
    "\n",
    "print(dicio)\n",
    "\n",
    "dicio2 = {num: (\"par\" if num % 2 == 0 else \"impar\") for num in valores}  # não precisa colocar aquela parte entre parênteses, mas fica mais organizado\n",
    "\n",
    "print(dicio2)"
   ]
  },
  {
   "cell_type": "code",
   "execution_count": null,
   "metadata": {},
   "outputs": [],
   "source": [
    "# Set Comprehension\n",
    "# A modificação feita pela comprehension é armazenada em um set, senão gera um generator\n",
    "palavra = 'suco de maracujá com morango'\n",
    "\n",
    "letras = {letra for letra in palavra}\n",
    "\n",
    "print(letras)"
   ]
  },
  {
   "cell_type": "code",
   "execution_count": null,
   "metadata": {},
   "outputs": [],
   "source": [
    "# ----------------- Lambdas -----------------\n",
    "# São funções que não são usadas propriamente como defs, mas sim para \"personalizar\" processos através de key functions\n",
    "\n",
    "# Exemplo básico\n",
    "frase = lambda: \"Qual o preço das frutas?\"\n",
    "uva = lambda x=10: 3 * x\n",
    "laranja = lambda x, y: (x + y) * 10\n",
    "morango = lambda x, y, z: x * y * z\n",
    " \n",
    "print(f'{frase()}')\n",
    "print(f'{uva()}')\n",
    "print(f'{laranja(5, 10)}')\n",
    "print(f'{morango(20, 10, 2)}')\n",
    "\n",
    "# Exemplo usando key function\n",
    "atrizes = [\"Jennifer Lawrence\", \"Emma Roberts\", \"Emma Watson\", \"Cate Blanchett\", \"Sarah Paulson\"]\n",
    " \n",
    "atrizes.sort(key=lambda sobrenome: sobrenome.split(\" \")[-1])\n",
    " \n",
    "print(f'\\n{atrizes}')  # por padrão, sort printaria considerando o primeiro nome. A key function definiu que o parâmetro que deveria ser utilizado deveria ser o sobrenome\n",
    "\n",
    "# Exemplo usando função + lambda\n",
    "def funcao_quadratica(a, b, c):\n",
    "    \"\"\"Aquela do ax² + bx + c\"\"\"\n",
    "    return lambda x: a * x ** 2 + b * x + c\n",
    "\n",
    "\n",
    "teste = funcao_quadratica(2, 3, -5) # em teste está armazenado a função com parâmetros definidos. Resta passar o parâmetro do lambda\n",
    "\n",
    "print(f'\\n{teste(0)}')  # 2 . 0² + 3 . 0 + (-5)\n",
    "print(funcao_quadratica(2, 3, -5)(2))  # \"dessa função quadrática com esses valores, printa considerando x = 2\""
   ]
  },
  {
   "cell_type": "code",
   "execution_count": null,
   "metadata": {},
   "outputs": [],
   "source": [
    "# ------------ Funções Integradas ------------\n",
    "# Funções que funcionam como módulos built-in python\n",
    "# Obs: Quando uma função retorna object, é somente uma vez e depois zera. Portanto, se quiser manter os dados salvos, terá que guardar em uma variável com list(map) tuple(map) etc, pois o object será convertido em um iterável \"real\""
   ]
  },
  {
   "cell_type": "code",
   "execution_count": null,
   "metadata": {},
   "outputs": [],
   "source": [
    "# map\n",
    "# Função que recebe como parâmetros uma outra função e um iterável para ser usado nela. Mais prático em diversas situações\n",
    "# *Necessário armazenar object se quiser manter salvo\n",
    "\n",
    "# Exemplos\n",
    "# Forma comum\n",
    "def area_quadrado(l):\n",
    "    return l * l\n",
    "\n",
    "\n",
    "lados = [5, 10, 15, 2]\n",
    "areas = []\n",
    "\n",
    "\n",
    "for l in lados:\n",
    "    areas.append(area_quadrado(l))\n",
    "\n",
    "print(f'Forma comum: {areas}')\n",
    "\n",
    "# Forma com Map\n",
    "\n",
    "areas = map(area_quadrado, lados)  # faça o que tiver nessa função com todos os valores da lista lados\n",
    "\n",
    "print(f'\\nForma com map 1: {areas}')\n",
    "print(f'Forma com map 2: {list(areas)}')\n",
    "\n",
    "# Forma com Map e Lambda\n",
    "\n",
    "areas = map(lambda l: l * l, lados)\n",
    "\n",
    "print(f'\\nForma com map e lambda 1: {areas}')\n",
    "print(f'Forma com map e lambda 2: {list(areas)}')\n"
   ]
  },
  {
   "cell_type": "code",
   "execution_count": null,
   "metadata": {},
   "outputs": [],
   "source": [
    "# Outro exemplo\n",
    "frutas = [[\"kiwi\", 10], [\"morango\", 20], [\"abacaxi\", 30]]\n",
    "\n",
    "preco_dobro = lambda fruta: [fruta[0], fruta[1] * 2]\n",
    "\n",
    "object = map(preco_dobro, frutas)\n",
    "print(list(object))\n",
    "print(list(object))"
   ]
  },
  {
   "cell_type": "code",
   "execution_count": null,
   "metadata": {},
   "outputs": [],
   "source": [
    "# filter\n",
    "# Função que recebe dois parâmetros (função e iterável), assim como o map. O filter funciona um \"if\"\n",
    "# *Necessário armazenar object se quiser manter salvo\n",
    "\n",
    "# Exemplo com lambda\n",
    "import statistics\n",
    "\n",
    "dados = 1, 2, 3, 4, 5, 6\n",
    "\n",
    "media = statistics.mean(dados)  # statistics.mean() recebe os dados de uma coleção e retorna o valor da média entre eles, precisa do import statistics\n",
    "\n",
    "filtro = filter(lambda valor: valor > media, dados)  # if valor (vindo da tupla dados) for maior que média, armazena em filtro\n",
    "print(f\"Acima da média {media} -- filter: {list(filtro)}\")\n",
    "filtro = map(lambda valor: valor > media, dados)  # o map, nesse caso, retorna True or False, pois o filter é quem filtra e armazena os resultados\n",
    "print(f\"Acima da média {media} -- map: {list(filtro)}\")\n",
    "\n",
    "# Exemplo com if pythônico e None\n",
    "frutas = [\"\", \"uva\", \"melão\", \"\", \"\", \"morango\"]\n",
    "\n",
    "filtro = filter(lambda f: f, frutas)  # como se fosse um if x: (True), ou seja, como \"\" = False, deixa de fora\n",
    "print(f'\\n{list(filtro)}')\n",
    "\n",
    "filtro = filter(None, frutas)  # não sei pq funciona mas enfim, é python\n",
    "print(list(filtro))\n",
    "\n",
    "# Exemplo misturando map\n",
    "filtro = list(map(lambda filtrados: f\"fruta(s) fav(s): {filtrados}\", filter(lambda fruta: len(fruta) >= 5, frutas)))\n",
    "print(filtro)\n"
   ]
  },
  {
   "cell_type": "code",
   "execution_count": null,
   "metadata": {},
   "outputs": [],
   "source": [
    "# reduce\n",
    "# Função que recebe dois parâmetros, uma função e um iterável. Serve para realizar um loop entre os valores de uma coleção. Porém, diferente do map e filter, a função recebida precisa conter dois parâmetros em vez de um. Além disso, ela não é uma função integrada, portanto, precisa ser feito o import dela\n",
    "# **O reduce não é tão usado, um loop for é mais legível\n",
    "\n",
    "from functools import reduce\n",
    "\n",
    "dados = [1, 2, 3, 4, 5, 6]\n",
    "\n",
    "soma = lambda x, y: x + y\n",
    "\n",
    "usando_reduce = reduce(soma, dados)\n",
    "print(usando_reduce)"
   ]
  },
  {
   "cell_type": "code",
   "execution_count": null,
   "metadata": {},
   "outputs": [],
   "source": [
    "# any e all\n",
    "# O all é uma função que tem o papel de verificar se todos os elementos de uma coleção são True. Se um elemento único for False, o all vai retornar False, funciona como um and\n",
    "# Já o any verifica se pelo menos um elemento de uma coleção é True. Se um elemento único for True, o all vai retornar True, funciona como um or\n",
    "# *Necessário armazenar object se quiser manter salvo\n",
    "\n",
    "frutas = [\"melão\", \"melancia\", \"morango\"]\n",
    "verdes = [\"alface\", \"repolho\", \"abobrinha\"]\n",
    "\n",
    "print(f'any: {any(fruta[0] == \"m\" for fruta in frutas)}')\n",
    "\n",
    "is_all = (verde[0] == \"a\" for verde in verdes)\n",
    "print(f'all 1: {all(is_all)}')\n",
    "print(f'all 2: {all(is_all)}')"
   ]
  },
  {
   "cell_type": "code",
   "execution_count": null,
   "metadata": {},
   "outputs": [],
   "source": [
    "# sorted\n",
    "# o sorted, diferente do sort, que só ordena listas, ordena qualquer iterável\n",
    "# *Necessário armazenar object se quiser manter salvo\n",
    "\n",
    "# Exemplo comum\n",
    "dados = (8, 6, 5, 4, 3, 2, 1)\n",
    "print(f'sorted dados: {sorted(dados)}')\n",
    "print(f'dados: {dados}')\n",
    "\n",
    "print()\n",
    "novos_dados = sorted(dados)\n",
    "print(f'novos_dados: {novos_dados}')\n",
    "print(f'novos_dados: {novos_dados}')\n",
    "\n",
    "# Exemplo com parâmetro\n",
    "dados = (1, 2, 8, 6, 5, 7, 4, 3)\n",
    "print(f'\\nusando reverse: {tuple(sorted(dados, reverse=True))}')"
   ]
  },
  {
   "cell_type": "code",
   "execution_count": null,
   "metadata": {},
   "outputs": [],
   "source": [
    "# Exemplo com mais de um parâmetro + key function\n",
    "atrizes = [\n",
    "    {\"nome\": \"Jennifer Lawrence\", \"idade\": 32, \"filme/série\": \"Hunger Games\"},\n",
    "    {\"nome\": \"Emma Roberts\", \"idade\": 31, \"filme/série\": \"American Horror Story\"},\n",
    "    {\"nome\": \"Zendaya\", \"idade\": 25, \"filme/série\": \"Euphoria\"},\n",
    "    {\"nome\": \"Cate Blanchett\", \"idade\": 53, \"filme/série\": \"Oito Mulheres e um Segredo\"}\n",
    "]\n",
    "\n",
    "print(sorted(atrizes, key=lambda atriz: atriz[\"nome\"]))\n",
    "print(f'\\nusando reverse com idade: {sorted(atrizes, key=lambda atriz: atriz[\"idade\"], reverse=True)}')"
   ]
  },
  {
   "cell_type": "code",
   "execution_count": null,
   "metadata": {},
   "outputs": [],
   "source": [
    "# min e max\n",
    "# O max funciona também com strings, levando em conta, no padrão, a letra mais próxima do fim do alfabeto\n",
    "# Já o min é o contrário de max\n",
    "\n",
    "# Exemplos\n",
    "print(max(\"a\", \"ba\", \"caaaa\", \"cccc\"))\n",
    "# mesmo \"caaaa\" sendo a string com mais letras, o max pega de referência as letras unitárias então no confronto entre todas as primeiras letras, \"caaaa\" e \"cccc\" vencem. Porém, no segundo critério, c é \"maior\" que a, então \"cccc\" é o max dessa seleção\n",
    "\n",
    "print(max(\"morango\"))\n",
    "# com a mesma lógica que a do exemplo anterior, max considera a mais próxima do fim do alfabeto, ou seja, r\n",
    "\n",
    "print(min(\"abbb\", \"ba\", \"ad\", \"aaaaa\"))\n",
    "\n",
    "\n",
    "print(min(\"oi tudo bem? 4&$#',\"))\n",
    "# OBS: quando uma string tiver backspace, o mínimo dela vai ser o backspace, mesmo tendo caracteres especiais, símbolos e números"
   ]
  },
  {
   "cell_type": "code",
   "execution_count": null,
   "metadata": {},
   "outputs": [],
   "source": [
    "# Exemplo com mais de um parâmetro + key function\n",
    "atrizes = [\"Jennifer Lawrence\", \"Emma Roberts\", \"Zendaya\", \"Emma Watson\", \"Cate Blanchett\"]\n",
    "print(max(atrizes, key=lambda atriz: len(atriz)))\n",
    "print(min(atrizes, key=lambda atriz: len(atriz)))\n",
    "\n",
    "# Exemplo com mais de um parâmetro + key function + acessando valores\n",
    "atrizes = [\n",
    "    {\"nome\": \"Jennifer Lawrence\", \"idade\": 32, \"obra\": \"Hunger Games\"},\n",
    "    {\"nome\": \"Emma Roberts\", \"idade\": 31, \"obra\": \"American Horror Story\"},\n",
    "    {\"nome\": \"Zendaya\", \"idade\": 25, \"obra\": \"Euphoria\"},\n",
    "    {\"nome\": \"Cate Blanchett\", \"idade\": 53, \"obra\": \"Oito Mulheres e um Segredo\"}\n",
    "]\n",
    "\n",
    "print()\n",
    "print(max(atrizes, key=lambda atriz: atriz[\"idade\"])[\"nome\"])  # printa o nome da atriz com maior idade\n",
    "print(min(atrizes, key=lambda atriz: atriz[\"idade\"])[\"nome\"])\n",
    "\n",
    "# Mesma função mas sem usar min e max\n",
    "print()\n",
    "print(sorted(atrizes, key=lambda atriz: atriz[\"idade\"], reverse=True)[0][\"nome\"])  # lista por idade crescente -> reverse -> primeiro elemento -> nome\n",
    "print(sorted(atrizes, key=lambda atriz: atriz[\"idade\"])[0][\"nome\"])\n"
   ]
  },
  {
   "cell_type": "code",
   "execution_count": null,
   "metadata": {},
   "outputs": [],
   "source": [
    "# reversed\n",
    "# O reversed, diferente do reverse, que só inverte listas, inverte qualquer iterável\n",
    "# *Necessário armazenar object se quiser manter salvo\n",
    "\n",
    "sobremesa = \"mousse de maracujá\"\n",
    "dados = [1, 2, 3, 4, 5, 6]\n",
    "\n",
    "print(reversed(sobremesa))\n",
    "print(list(reversed(sobremesa)))\n",
    "print(tuple(reversed(dados)))\n",
    "\n",
    "# Usando slice de string\n",
    "print()\n",
    "print(dados[::-1])\n",
    "print(sobremesa[::-1])"
   ]
  },
  {
   "cell_type": "code",
   "execution_count": null,
   "metadata": {},
   "outputs": [],
   "source": [
    "# abs\n",
    "# Modulariza números\n",
    "\n",
    "print(abs(-5))\n",
    "print(abs(5.2))\n",
    "print(abs(-5.2))"
   ]
  },
  {
   "cell_type": "code",
   "execution_count": null,
   "metadata": {},
   "outputs": [],
   "source": [
    "# sum\n",
    "# Soma elementos do parâmetro\n",
    "\n",
    "print(f'lista: {sum([5, 3, 7, 5])}')\n",
    "# print(f'{sum(5)}')  # TypeError\n",
    "print(f'lista: {sum([5])}')\n",
    "print(f'lista + parâmetro: {sum([5, 3, 7, 5], 5)}')\n",
    "\n",
    "print(f'\\nvalores de um dicionário: {sum({\"a\": 1, \"b\": 4}.values())}')\n",
    "print(f'chaves de um dicionário: {sum({2: 1, 8: 4})}')"
   ]
  },
  {
   "cell_type": "code",
   "execution_count": null,
   "metadata": {},
   "outputs": [],
   "source": [
    "# round\n",
    "# Arredonda números, tanto pra baixo quanto pra cima. x,5 arredonda pra baixo, do x,5 pra cima arredonda pra cima. Além disso, pode definir até qual casa decimal será considerado o round\n",
    "\n",
    "print(round(10.5))\n",
    "print(round(10.500000001))\n",
    "print(round(10.6))\n",
    "print(round(3.1416, 2))\n",
    "print(round(1.2999999, 0))\n",
    "print(round(1.2999999, 1))"
   ]
  },
  {
   "cell_type": "code",
   "execution_count": null,
   "metadata": {},
   "outputs": [],
   "source": [
    "# zip\n",
    "# Gera uma coleção de tuplas que cada uma armazena o conjunto de elementos do index correspondente\n",
    "# Se baseia no tamanho da menor lista e na ordem da esquerda para a direita (com exceção dos sets, por questões óbvias)\n",
    "# Se 3 ou mais parâmetros, não pode armazenar o object em dict\n",
    "# *Necessário armazenar object se quiser manter salvo \n",
    "\n",
    "# Exemplos\n",
    "lista = [1, 2, 3]\n",
    "tupla = (4, 5, 6)\n",
    "frutas = {\"uva\", \"kiwi\", \"morango\"}\n",
    "\n",
    "zipando = zip(lista, tupla, \"abc\")\n",
    "print(tuple(zipando))\n",
    "\n",
    "zipando = zip(\"123\", frutas)\n",
    "print(dict(zipando))"
   ]
  },
  {
   "cell_type": "code",
   "execution_count": null,
   "metadata": {},
   "outputs": [],
   "source": [
    "# Exemplo com *args\n",
    "lista = [[1, 2], [3, 4], [5, 6]]\n",
    "tupla = (10, 20, 30)\n",
    "\n",
    "print(list(zip(lista, tupla)))\n",
    "print(list(zip(*lista, tupla)))"
   ]
  },
  {
   "cell_type": "code",
   "execution_count": null,
   "metadata": {},
   "outputs": [],
   "source": [
    "# Exemplo com dict comprehension\n",
    "favs = [\"Hunger Games\", \"Euphoria\", \"Oito Mulheres e um Segredo\"]\n",
    "favs2 = [\"X-Men\", \"Shake it Up\", \"Carol\"]\n",
    "atrizes = [\"Jennifer Lawrence\", \"Zendaya\", \"Cate Blanchett\"]\n",
    "\n",
    "alfabetica = {dado[0]: min(dado[1], dado[2]) for dado in zip(atrizes, favs, favs2)}\n",
    "print(alfabetica)\n",
    "\n",
    "# Exemplo com map\n",
    "reverso_alfabetica = zip(atrizes, map(lambda dado: max(dado), zip(favs, favs2)))\n",
    "print(dict(reverso_alfabetica))"
   ]
  },
  {
   "cell_type": "code",
   "execution_count": null,
   "metadata": {},
   "outputs": [],
   "source": [
    "# -------- Erros Comuns em Python --------"
   ]
  },
  {
   "cell_type": "code",
   "execution_count": null,
   "metadata": {},
   "outputs": [],
   "source": [
    "# SyntaxError\n",
    "# Quando ocorre um erro de sintaxe de código, ou seja, meio que \"codar errado em python\"\n",
    "\n",
    "def funcao:  # faltou o () dps do nome\n",
    "\n",
    "\n",
    "def = 1  # usar palavra reservada como variável\n",
    "\n",
    "\n",
    "return  # return só pode ser usado dentro de uma função"
   ]
  },
  {
   "cell_type": "code",
   "execution_count": null,
   "metadata": {},
   "outputs": [],
   "source": [
    "# NameError\n",
    "# Quando uma variável ou função não foi definida\n",
    "\n",
    "print(var)  # não existe var\n",
    "\n",
    "funcao()  # não existe funcao\n",
    "\n",
    "x = 11\n",
    "if x < 10:\n",
    "    msg = \"menor que 10\"\n",
    "print(msg)  # não existe \"msg\" sem entrar no if"
   ]
  },
  {
   "cell_type": "code",
   "execution_count": null,
   "metadata": {},
   "outputs": [],
   "source": [
    "# TypeError\n",
    "# Quando função/operação/ação é aplicada a um tipo errado\n",
    "\n",
    "print(len(10))  # int não pode ser usado com len\n",
    "\n",
    "print(\"string\" + [])  # lista não é concatenável com string"
   ]
  },
  {
   "cell_type": "code",
   "execution_count": null,
   "metadata": {},
   "outputs": [],
   "source": [
    "# IndexError\n",
    "# Quando tentamos acessar um índice inválido/inexistente de um elemento\n",
    "\n",
    "fruta = \"kiwi\"\n",
    "print(fruta[4])  # index de fruta só vai até 3\n",
    "\n",
    "lista = [13, 1989]\n",
    "print(lista[2])  # não possui elemento com index 2"
   ]
  },
  {
   "cell_type": "code",
   "execution_count": null,
   "metadata": {},
   "outputs": [],
   "source": [
    "# ValueError\n",
    "# Quando uma função recebe um argumento com tipo correto mas com valor inapropriado\n",
    "\n",
    "print(int(\"kiwi\"))  # int pode receber string (tipo correto) porém esse valor não"
   ]
  },
  {
   "cell_type": "code",
   "execution_count": null,
   "metadata": {},
   "outputs": [],
   "source": [
    "# KeyError\n",
    "# Ocorre quando tentamos acessar uma chave inexistente de um dicionário\n",
    "\n",
    "dicio = {\"fruta\": \"kiwi\"}\n",
    "print(dicio[\"vegetal\"])  # não existe chave vegetal"
   ]
  },
  {
   "cell_type": "code",
   "execution_count": null,
   "metadata": {},
   "outputs": [],
   "source": [
    "# AttributeError\n",
    "# Quando uma variável não tem um atributo/função\n",
    "\n",
    "tupla = (1, 2, 3)\n",
    "print(tupla.sort())  # sort não pode ser usado com tuplas"
   ]
  },
  {
   "cell_type": "code",
   "execution_count": null,
   "metadata": {},
   "outputs": [],
   "source": [
    "# ----------- Tratamento de Erros -----------"
   ]
  },
  {
   "cell_type": "code",
   "execution_count": 124,
   "metadata": {},
   "outputs": [
    {
     "ename": "TypeError",
     "evalue": "Fruta precisa ser uma string",
     "output_type": "error",
     "traceback": [
      "\u001b[1;31m---------------------------------------------------------------------------\u001b[0m",
      "\u001b[1;31mTypeError\u001b[0m                                 Traceback (most recent call last)",
      "\u001b[1;32md:\\Desktop\\Cursos\\Cursos Udemy\\Programação - Python\\anotações.ipynb Célula: 53\u001b[0m in \u001b[0;36m<cell line: 13>\u001b[1;34m()\u001b[0m\n\u001b[0;32m      <a href='vscode-notebook-cell:/d%3A/Desktop/Cursos/Cursos%20Udemy/Programa%C3%A7%C3%A3o%20-%20Python/anota%C3%A7%C3%B5es.ipynb#X66sZmlsZQ%3D%3D?line=8'>9</a>\u001b[0m     \u001b[39mif\u001b[39;00m fruta \u001b[39mnot\u001b[39;00m \u001b[39min\u001b[39;00m frutas_disponiveis:\n\u001b[0;32m     <a href='vscode-notebook-cell:/d%3A/Desktop/Cursos/Cursos%20Udemy/Programa%C3%A7%C3%A3o%20-%20Python/anota%C3%A7%C3%B5es.ipynb#X66sZmlsZQ%3D%3D?line=9'>10</a>\u001b[0m         \u001b[39mraise\u001b[39;00m \u001b[39mValueError\u001b[39;00m(\u001b[39mf\u001b[39m\u001b[39m\"\u001b[39m\u001b[39m{\u001b[39;00mfruta\u001b[39m}\u001b[39;00m\u001b[39m não está disponível\u001b[39m\u001b[39m\"\u001b[39m)\n\u001b[1;32m---> <a href='vscode-notebook-cell:/d%3A/Desktop/Cursos/Cursos%20Udemy/Programa%C3%A7%C3%A3o%20-%20Python/anota%C3%A7%C3%B5es.ipynb#X66sZmlsZQ%3D%3D?line=12'>13</a>\u001b[0m compras(\u001b[39m5\u001b[39;49m, \u001b[39m\"\u001b[39;49m\u001b[39mkiwi\u001b[39;49m\u001b[39m\"\u001b[39;49m)  \u001b[39m# raise 1\u001b[39;00m\n\u001b[0;32m     <a href='vscode-notebook-cell:/d%3A/Desktop/Cursos/Cursos%20Udemy/Programa%C3%A7%C3%A3o%20-%20Python/anota%C3%A7%C3%B5es.ipynb#X66sZmlsZQ%3D%3D?line=13'>14</a>\u001b[0m compras(\u001b[39m\"\u001b[39m\u001b[39mkiwi\u001b[39m\u001b[39m\"\u001b[39m, \u001b[39m\"\u001b[39m\u001b[39m5\u001b[39m\u001b[39m\"\u001b[39m)  \u001b[39m# raise 2\u001b[39;00m\n\u001b[0;32m     <a href='vscode-notebook-cell:/d%3A/Desktop/Cursos/Cursos%20Udemy/Programa%C3%A7%C3%A3o%20-%20Python/anota%C3%A7%C3%B5es.ipynb#X66sZmlsZQ%3D%3D?line=14'>15</a>\u001b[0m compras(\u001b[39m\"\u001b[39m\u001b[39mmamão\u001b[39m\u001b[39m\"\u001b[39m, \u001b[39m2.5\u001b[39m)\n",
      "\u001b[1;32md:\\Desktop\\Cursos\\Cursos Udemy\\Programação - Python\\anotações.ipynb Célula: 53\u001b[0m in \u001b[0;36mcompras\u001b[1;34m(fruta, qtd)\u001b[0m\n\u001b[0;32m      <a href='vscode-notebook-cell:/d%3A/Desktop/Cursos/Cursos%20Udemy/Programa%C3%A7%C3%A3o%20-%20Python/anota%C3%A7%C3%B5es.ipynb#X66sZmlsZQ%3D%3D?line=3'>4</a>\u001b[0m frutas_disponiveis \u001b[39m=\u001b[39m [\u001b[39m\"\u001b[39m\u001b[39muva\u001b[39m\u001b[39m\"\u001b[39m, \u001b[39m\"\u001b[39m\u001b[39mkiwi\u001b[39m\u001b[39m\"\u001b[39m, \u001b[39m\"\u001b[39m\u001b[39mmorango\u001b[39m\u001b[39m\"\u001b[39m]\n\u001b[0;32m      <a href='vscode-notebook-cell:/d%3A/Desktop/Cursos/Cursos%20Udemy/Programa%C3%A7%C3%A3o%20-%20Python/anota%C3%A7%C3%B5es.ipynb#X66sZmlsZQ%3D%3D?line=4'>5</a>\u001b[0m \u001b[39mif\u001b[39;00m \u001b[39mtype\u001b[39m(fruta) \u001b[39mis\u001b[39;00m \u001b[39mnot\u001b[39;00m \u001b[39mstr\u001b[39m:\n\u001b[1;32m----> <a href='vscode-notebook-cell:/d%3A/Desktop/Cursos/Cursos%20Udemy/Programa%C3%A7%C3%A3o%20-%20Python/anota%C3%A7%C3%B5es.ipynb#X66sZmlsZQ%3D%3D?line=5'>6</a>\u001b[0m     \u001b[39mraise\u001b[39;00m \u001b[39mTypeError\u001b[39;00m(\u001b[39m\"\u001b[39m\u001b[39mFruta precisa ser uma string\u001b[39m\u001b[39m\"\u001b[39m)\n\u001b[0;32m      <a href='vscode-notebook-cell:/d%3A/Desktop/Cursos/Cursos%20Udemy/Programa%C3%A7%C3%A3o%20-%20Python/anota%C3%A7%C3%B5es.ipynb#X66sZmlsZQ%3D%3D?line=6'>7</a>\u001b[0m \u001b[39mif\u001b[39;00m \u001b[39mtype\u001b[39m(qtd) \u001b[39m==\u001b[39m \u001b[39mstr\u001b[39m:\n\u001b[0;32m      <a href='vscode-notebook-cell:/d%3A/Desktop/Cursos/Cursos%20Udemy/Programa%C3%A7%C3%A3o%20-%20Python/anota%C3%A7%C3%B5es.ipynb#X66sZmlsZQ%3D%3D?line=7'>8</a>\u001b[0m     \u001b[39mraise\u001b[39;00m \u001b[39mTypeError\u001b[39;00m(\u001b[39m\"\u001b[39m\u001b[39mQuantidade precisa ser dada em formato int\u001b[39m\u001b[39m\"\u001b[39m)\n",
      "\u001b[1;31mTypeError\u001b[0m: Fruta precisa ser uma string"
     ]
    }
   ],
   "source": [
    "# raise\n",
    "# O raise tem a função de levantar erros e \"apresentar\" mensagens personalizadas para cada tipo\n",
    "\n",
    "def compras(fruta, qtd):\n",
    "    frutas_disponiveis = [\"uva\", \"kiwi\", \"morango\"]\n",
    "    if type(fruta) is not str:\n",
    "        raise TypeError(\"Fruta precisa ser uma string\")\n",
    "    if type(qtd) == str:\n",
    "        raise TypeError(\"Quantidade precisa ser dada em formato int\")\n",
    "    if fruta not in frutas_disponiveis:\n",
    "        raise ValueError(f\"{fruta} não está disponível\")\n",
    "\n",
    "\n",
    "compras(5, \"kiwi\")  # raise 1\n",
    "compras(\"kiwi\", \"5\")  # raise 2\n",
    "compras(\"mamão\", 2.5)  # raise 3"
   ]
  },
  {
   "cell_type": "code",
   "execution_count": null,
   "metadata": {},
   "outputs": [],
   "source": [
    "# try/except\n",
    "# O bloco try except é responsável por tentar executar um código e, se der erro, executa o script do except. Serve para tratar erros que podem ocorrer no código, previne que o programa pare de funcionar e o usuário receba mensagens sobre\n",
    "\n",
    "try:\n",
    "    funcao()\n",
    "except:\n",
    "    print(\"Erro\")"
   ]
  },
  {
   "cell_type": "code",
   "execution_count": 123,
   "metadata": {},
   "outputs": [
    {
     "name": "stdout",
     "output_type": "stream",
     "text": [
      "Erro! Isso não tá funcionando\n"
     ]
    }
   ],
   "source": [
    "# Exemplo com except específico\n",
    "dicio = {\"fruta\": \"kiwi\"}\n",
    "try:\n",
    "    print(dicio[\"vegetal\"])  # KeyError\n",
    "# except NameError:\n",
    "except KeyError:    \n",
    "    print(\"Erro! Isso não tá funcionando\")\n"
   ]
  },
  {
   "cell_type": "code",
   "execution_count": null,
   "metadata": {},
   "outputs": [],
   "source": [
    "# Exemplo com except específico 2\n",
    "def retorna_valor(dicio, chave):\n",
    "    try:\n",
    "        return dicio[chave]\n",
    "    except KeyError:\n",
    "        return None\n",
    "\n",
    "\n",
    "dicionario = {\"fruta\": \"kiwi\"}\n",
    "\n",
    "print(retorna_valor(dicionario, \"fruta\"))  # kiwi\n",
    "print(retorna_valor(dicionario, \"vegetal\"))  # KeyError = return None"
   ]
  },
  {
   "cell_type": "code",
   "execution_count": null,
   "metadata": {},
   "outputs": [],
   "source": [
    "# Exemplo com mais de um except\n",
    "try:\n",
    "    len(10)  # TypeError\n",
    "    funcao()  # NameError\n",
    "except TypeError as erra:\n",
    "    print(f\"A aplicação gerou o seguinte TypeError: {erra}\")\n",
    "except NameError as errb:\n",
    "    print(f\"A aplicação gerou o seguinte NameError: {errb}\")\n",
    "except:\n",
    "    print(\"Outro Erro aconteceu!\")"
   ]
  },
  {
   "cell_type": "code",
   "execution_count": 129,
   "metadata": {},
   "outputs": [
    {
     "name": "stdout",
     "output_type": "stream",
     "text": [
      "Isso não tá funcionando. \n",
      "Classe: <class 'TypeError'>; \n",
      "Erro: unsupported operand type(s) for +: 'int' and 'str'\n",
      "\n",
      "** usando o finally **\n"
     ]
    }
   ],
   "source": [
    "# else e finally\n",
    "# O else acontece caso o try não apresente erros, já o finally sempre vai ser executado\n",
    "# O finally serve para fechar ou desalocar recursos, ou seja, fechar um banco de dados, fechar arquivo usado para leitura/escrita etc\n",
    "\n",
    "frutas = {\"kiwi\": 3, \"uva\": 1}\n",
    "try:\n",
    "    gasto = sum(frutas.values())\n",
    "    gasto = sum(frutas)  # TypeError\n",
    "except TypeError as err:    \n",
    "    print(f\"Isso não tá funcionando. \\nClasse: {err.__class__}; \\nErro: {err}\")\n",
    "else:\n",
    "    print(f\"** usando o else ** \")\n",
    "finally:\n",
    "    print(\"\\n** usando o finally **\")"
   ]
  },
  {
   "cell_type": "code",
   "execution_count": 132,
   "metadata": {},
   "outputs": [
    {
     "name": "stdout",
     "output_type": "stream",
     "text": [
      "Valor incorreto.\n"
     ]
    }
   ],
   "source": [
    "# Outro exemplo\n",
    "# Se estiver usando funções, é preferível que o erro seja tratado dentro dela para o código ficar mais limpo e organizado\n",
    "def dividir(x, y):\n",
    "    try:\n",
    "        return int(x) / int(y)\n",
    "    except ValueError:\n",
    "        return \"Valor incorreto.\"\n",
    "    except ZeroDivisionError:\n",
    "        return \"Divisor não pode ser 0.\"\n",
    "\n",
    "num1 = input(\"Primeiro número: \")\n",
    "num2 = input(\"Segundo número: \")\n",
    "\n",
    "print(dividir(num1, num2))"
   ]
  },
  {
   "cell_type": "code",
   "execution_count": 135,
   "metadata": {},
   "outputs": [
    {
     "name": "stdout",
     "output_type": "stream",
     "text": [
      "Ocorreu um problema: invalid literal for int() with base 10: 'a'\n"
     ]
    }
   ],
   "source": [
    "# Exemplo com dois valores no except\n",
    "def dividir(x, y):\n",
    "    try:\n",
    "        return int(x) / int(y)\n",
    "    except (ValueError, ZeroDivisionError) as err:\n",
    "        return f\"Ocorreu um problema: {err}\"\n",
    "\n",
    "num1 = input(\"Primeiro número: \")\n",
    "num2 = input(\"Segundo número: \")\n",
    "\n",
    "print(dividir(num1, num2))"
   ]
  },
  {
   "cell_type": "code",
   "execution_count": null,
   "metadata": {},
   "outputs": [],
   "source": [
    "# Debug com PDB\n",
    "# Forma 1\n",
    "import pdb\n",
    "\n",
    "pdb.set_trace()  # onde quer q comece o debug\n",
    "\n",
    "# Forma 2\n",
    "import pdb; pdb.set_trace()\n",
    "\n",
    "# Forma 3\n",
    "breakpoint()  # A partir do python 3.7, pode ser usado o breakpoint() em vez do import pdb; pdb.set_trace()\n",
    "\n",
    "\"\"\"\n",
    "l -> lista onde estamos no código\n",
    "\n",
    "n -> próxima linha\n",
    "\n",
    "p -> imprime variável\n",
    "\n",
    "c -> finaliza o debug\n",
    "\n",
    "Podemos também escrever o nome de uma variável para ver oq tem armazenado nela. Assim, precisa ter cuidado para a variável não ter os nomes dos comandos se for digitar ela direto. Porém, o p nome_variavel evita e cuida disso\n",
    "\"\"\""
   ]
  },
  {
   "cell_type": "code",
   "execution_count": null,
   "metadata": {},
   "outputs": [],
   "source": [
    "# Exemplo\n",
    "# Aqui no jupyter não funciona tão bem mas na IDE normal faz tudo certinho\n",
    "def dividir(x, y):\n",
    "    try:\n",
    "        return int(x) / int(y)\n",
    "    except ValueError:\n",
    "        return \"Valor incorreto.\"\n",
    "    except ZeroDivisionError:\n",
    "        return \"Divisor não pode ser 0.\"\n",
    "\n",
    "num1 = input(\"Primeiro número: \")\n",
    "num2 = input(\"Segundo número: \")\n",
    "\n",
    "breakpoint()\n",
    "print(dividir(num1, num2))"
   ]
  },
  {
   "cell_type": "code",
   "execution_count": null,
   "metadata": {},
   "outputs": [],
   "source": [
    "# ------------------ Random ------------------\n",
    "from random import random  \n",
    "\n",
    "for i in range(5):\n",
    "    print(random())\n",
    "\n",
    "# quando faz from+import, além de gastar menos memória (pq pega somente uma função específica do módulo) não precisa colocar nome_modulo.nome_funcao quando for usar no código, só nome_funcao"
   ]
  },
  {
   "cell_type": "code",
   "execution_count": null,
   "metadata": {},
   "outputs": [],
   "source": [
    "# uniform\n",
    "# Gera um número pseudo-aleatório entre os valores estabelecidos\n",
    "from random import uniform\n",
    "\n",
    "for i in range(5):\n",
    "    print(uniform(0, 100))  # o 100 não é incluído "
   ]
  },
  {
   "cell_type": "code",
   "execution_count": null,
   "metadata": {},
   "outputs": [],
   "source": [
    "# randint\n",
    "# Gera um número inteiro pseudo-aleatório entre os valores estabelecidos\n",
    "from random import randint\n",
    "\n",
    "for i in range(5):\n",
    "    print(randint(0, 100))  # o 100 não é incluído "
   ]
  },
  {
   "cell_type": "code",
   "execution_count": null,
   "metadata": {},
   "outputs": [],
   "source": [
    "# choice\n",
    "# Gera um valor aleatório entre um iterável\n",
    "from random import choice\n",
    "\n",
    "jogo = [\"pedra\", \"papel\", \"tesoura\"]\n",
    "\n",
    "escolha = choice(jogo)  \n",
    "print(escolha)\n",
    "\n",
    "print(choice(escolha))  # com a string armazenada, o choice escolhe uma das letras dela"
   ]
  },
  {
   "cell_type": "code",
   "execution_count": null,
   "metadata": {},
   "outputs": [],
   "source": [
    "# shuffle\n",
    "# Mistura a ordem dos dados\n",
    "from random import shuffle\n",
    "\n",
    "cartas = [\"A\", \"J\", \"Q\", \"K\", \"5\", \"2\", \"10\"]\n",
    "\n",
    "print(cartas)\n",
    "shuffle(cartas)\n",
    "print(f\"\\nEmbaralhadas: {cartas}\")"
   ]
  },
  {
   "cell_type": "code",
   "execution_count": null,
   "metadata": {},
   "outputs": [],
   "source": [
    "# ------------- Módulos built-in -------------\n",
    "# São módulos já instalados com o python, porém precisam ser importados para serem usados, como o random\n",
    "\n",
    "print(dir())  # o dir vazio mostra os módulos instalados/importados do arquivo inteiro no momento\n",
    "\n",
    "# No jupyter tá bagunçado pois está considerando tudo que foi usado nos exemplos anteriores, mas o print real de dir num arquivo vazio seria esse:\n",
    "# ['__annotations__', '__builtins__', '__cached__', '__doc__', '__file__', '__loader__', '__name__', '__package__', '__spec__']\n",
    "\n",
    "import math\n",
    "print(dir())\n",
    "# [\"todos aqueles de ali de cima\", 'math']\n",
    "\n",
    "from math import pi\n",
    "print(dir())\n",
    "# [\"todos aqueles ali de cima\", 'pi']"
   ]
  },
  {
   "cell_type": "code",
   "execution_count": null,
   "metadata": {},
   "outputs": [],
   "source": [
    "# as\n",
    "# O as (alias) serve para dar apelidos aos módulos e funções; tomar cuidado para o nome não ser de variáveis e afins\n",
    "from random import (\n",
    "    random as rdm,\n",
    "    randint as rdi,\n",
    "    shuffle as sff,\n",
    "    choice as chc\n",
    ")  # jeito popular de organizar os imports\n",
    "\n",
    "print(rdm())\n",
    "print(rdi(0, 100))\n",
    "print(random())  # pode continuar usando o nome padrão normalmente"
   ]
  },
  {
   "cell_type": "code",
   "execution_count": null,
   "metadata": {},
   "outputs": [],
   "source": [
    "# import *\n",
    "# Importa todas as funções de um módulo, mas não precisa usar nome_modulo.nome_funcao\n",
    "from random import *  # nesse caso, substituiu o from random import randint e importou todas as funções\n",
    "\n",
    "for i in range(5):\n",
    "    print(randint(0, 100))"
   ]
  },
  {
   "cell_type": "code",
   "execution_count": null,
   "metadata": {},
   "outputs": [],
   "source": [
    "# --------- Módulos Costumizados ---------\n",
    "# Aqui no jupyter não tá funcionando mas na IDE normal funciona\n",
    "from modulo_para_teste import (\n",
    "    dividir as div,\n",
    "    quadrado,\n",
    "    var_teste as vt\n",
    ")\n",
    "\n",
    "# variáveis também podem ser importadas de outros módulos\n",
    "\n",
    "num = input(\"Dividendo: \")\n",
    "\n",
    "dividido = div(vt, num)\n",
    "print(f\"\\nResultado da divisão: {dividido:.1f}\")\n",
    "print(f\"Dividido ao quadrado: {quadrado(dividido):.1f}\")"
   ]
  },
  {
   "cell_type": "code",
   "execution_count": null,
   "metadata": {},
   "outputs": [],
   "source": [
    "# ------------ Módulos Externos ------------\n",
    "# É o que chamamos de bibliotecas. Para exportá-las, é necessário usar o pip\n",
    "# Os pacotes externos oficiais podem ser encontrados em https://pypi.org\n",
    "# Os comandos têm que ser dados no terminal python\n",
    "\n",
    "pip\n",
    "pip list\n",
    "pip install nome_biblioteca"
   ]
  },
  {
   "cell_type": "code",
   "execution_count": null,
   "metadata": {},
   "outputs": [],
   "source": [
    "# ------------------ Dunder ------------------\n",
    "# Double Under; são utilizados para criar funções, propriedades e etc sem gerar conflito com os nomes de outros elementos da programação\n",
    "# o if __name__ = \"__main__\": serve para fazer funções etc específicos dentro do if serem executadas somente quando o arquivo principal ter dado run"
   ]
  },
  {
   "cell_type": "code",
   "execution_count": null,
   "metadata": {},
   "outputs": [],
   "source": [
    "# ------------ Leitura de Arquivos ------------\n",
    "# open()\n",
    "# abre o arquivo; o padrão é abrir para leitura\n",
    "\n",
    "# read()\n",
    "# retorna o que tiver escrito no arquivo; com argumento limita até quantos caracteres vai ler\n",
    "\n",
    "# close()\n",
    "# fecha o arquivo\n",
    "\n",
    "# closed\n",
    "# verifica se o arquivo está aberto ou fechado\n",
    "\n",
    "arquivo = open(\"texto_para_teste.txt\")\n",
    "\n",
    "# arquivo.read()\n",
    "print(arquivo.read())\n",
    "\n",
    "print(f\"\\nPrimeiro closed: {arquivo.closed}\")\n",
    "arquivo.close()\n",
    "print(f\"\\nSegundo closed: {arquivo.closed}\")\n",
    "\n",
    "# não pode manipular o arquivo depois de fechado, vai dar erro"
   ]
  },
  {
   "cell_type": "code",
   "execution_count": null,
   "metadata": {},
   "outputs": [],
   "source": [
    "# seek\n",
    "# Movimenta o cursor pelo arquivo\n",
    "arquivo = open(\"texto_para_teste.txt\")\n",
    "\n",
    "print(arquivo.read())\n",
    "arquivo.seek(31)  # da segunda linha para frente\n",
    "print(\"\\nPós-Seek:\")\n",
    "print(arquivo.read(7)) # até o final de Leitura"
   ]
  },
  {
   "cell_type": "code",
   "execution_count": null,
   "metadata": {},
   "outputs": [],
   "source": [
    "# readline e readlines\n",
    "# Enquanto o readline lê o arquivo linha a linha, o readlines coloca todo o texto dentro de uma lista\n",
    "arquivo = open(\"texto_para_teste.txt\")\n",
    "print(\"readline:\")\n",
    "print(arquivo.readline())\n",
    "print(arquivo.readline())\n",
    "print(arquivo.readline())\n",
    "print(arquivo.readline())\n",
    "print(arquivo.readline())\n",
    "print(arquivo.readline())\n",
    "\n",
    "arquivo.seek(0)\n",
    "\n",
    "arquivo = open(\"texto_para_teste.txt\")\n",
    "# print(len(arquivo.readlines()))\n",
    "print(f\"\\nreadlines:\\n{arquivo.readlines()}\")"
   ]
  },
  {
   "cell_type": "code",
   "execution_count": null,
   "metadata": {},
   "outputs": [],
   "source": [
    "# with\n",
    "# O bloco with serve para executar as funções e fechar o arquivo quando acabar\n",
    "\n",
    "# Forma 1\n",
    "with open(\"texto_para_teste.txt\") as arquivo:\n",
    "    print(arquivo.readline(), end=\"\")\n",
    "    print(f\"Primeiro closed: {arquivo.closed}\")\n",
    "\n",
    "# print(arquivo.read()) # ValueError\n",
    "print(f\"Segundo closed: {arquivo.closed}\")\n",
    "\n",
    "\n",
    "# Forma 2\n",
    "arquivo = open(\"texto_para_teste.txt\")\n",
    "with arquivo:\n",
    "    print(f\"\\n{arquivo.readline()}\")\n",
    "\n",
    "# pass\n",
    "# Serve para \"finalizar\"; usado quando queremos criar um arquivo, mas sem preencher ele de imediato\n",
    "with open(\"texto_para_teste_3.txt\", \"w\") as arquivo:\n",
    "    pass  "
   ]
  },
  {
   "cell_type": "code",
   "execution_count": null,
   "metadata": {},
   "outputs": [],
   "source": [
    "# ------------ Escrita de Arquivos ------------\n",
    "# write()\n",
    "# No padrão, (modo w), sobrescreve arquivo existente. senão, vai criar um novo arquivo\n",
    "with open(\"texto_para_teste_2.txt\", \"w\") as arquivo:\n",
    "    arquivo.write(\"Escrevendo em Arquivos com Python\")\n"
   ]
  },
  {
   "cell_type": "code",
   "execution_count": null,
   "metadata": {},
   "outputs": [],
   "source": [
    "# Modo x\n",
    "# Escreve somente se o arquivo não existir. Se existir, dá erro FileExistsError\n",
    "with open(\"texto_para_modo_x.txt\", \"x\") as arquivo:\n",
    "    arquivo.write(\"Escrevendo em Arquivos com Python usando o modo x\")"
   ]
  },
  {
   "cell_type": "code",
   "execution_count": null,
   "metadata": {},
   "outputs": [],
   "source": [
    "# Modo a\n",
    "# Escreve adicionando conteúdo ao final do arquivo. Se não existir, cria um arquivo\n",
    "with open(\"texto_para_teste.txt\", \"a\") as arquivo:\n",
    "    arquivo.write(\"\\nEscrevendo em Arquivos com Python usando o modo a!\")"
   ]
  },
  {
   "cell_type": "code",
   "execution_count": null,
   "metadata": {},
   "outputs": [],
   "source": [
    "# StringIO\n",
    "# Utilizado para ler, escrever e criar arquivos em memória\n",
    "from io import StringIO\n",
    "\n",
    "mensagem = \"Escrevendo na memória, ou seja, sem criar um novo arquivo no diretório\"\n",
    "memoria = StringIO(mensagem)\n",
    "print(memoria.read())\n",
    "\n",
    "# memoria.write(\"\\nNovo texto\")\n",
    "# memoria.seek(0)\n",
    "# print(memoria.read())"
   ]
  },
  {
   "cell_type": "code",
   "execution_count": null,
   "metadata": {},
   "outputs": [],
   "source": [
    "# ----------- Sistema de Arquivos -----------\n",
    "import os\n",
    "import sys\n",
    "\n",
    "print(os.getcwd())  # mostra o diretório atual\n",
    "os.chdir(\"..\")  # muda o diretório q estamos; \"..\" coloca a gente no diretório acima\n",
    "print(os.getcwd())\n",
    "\n",
    "print(os.path.isabs(\"d:\\\\Desktop\\\\Cursos\\\\Cursos Udemy\\\\Programação - Python\"))  # mostra se o diretório é absoluto (que começa da raiz) ou relativo\n",
    "\n",
    "print(os.name)  # posix (Linux e Mac) ou nt (Windows)\n",
    "print(sys.platform)\n",
    "\n",
    "os.chdir(\"d:\\\\Desktop\\\\Cursos\\\\Cursos Udemy\\\\Programação - Python\")\n",
    "# adicionando_diretorio = os.path.join(os.getcwd(), \"teste\")\n",
    "# os.chdir(adicionando_diretorio)\n",
    "print(os.getcwd())\n",
    "\n",
    "print(os.listdir())  # lista os arquivos\n",
    "print(len(os.listdir()))\n",
    "print(os.listdir(\"d:\\\\\"))\n",
    "\n",
    "print(list(os.scandir())) # lista os arquivos mais detalhadamente; o scandir precisa ser fechado, ou seja, ou colocado dentro de um bloco with ou usando .close()\n",
    "print()\n",
    "arquivos = list(os.scandir()) \n",
    "print(arquivos[0].inode())  # numeração do arquivo na árvore de diretórios\n",
    "print(arquivos[0].is_dir())  # diz se é um diretório \n",
    "print(arquivos[0].is_file())  # diz se é um arquivo\n",
    "print(arquivos[0].is_symlink())  # diz se é um link simbólico\n",
    "print(arquivos[0].name)  # nome do arquivo\n",
    "print(arquivos[0].path)  # caminho até o arquivo\n",
    "print(arquivos[0].stat())  # estatísticas"
   ]
  },
  {
   "cell_type": "code",
   "execution_count": null,
   "metadata": {},
   "outputs": [],
   "source": [
    "# Arquivos e Diretórios\n",
    "# Verificando se o arquivo/diretório existe:\n",
    "os.path.exists(\"nome_do_diretorio/arquivo.extensao\")  # retorna booleana\n",
    "\n",
    "# Criando um arquivo:\n",
    "os.mknod(\"nome_do_arquivo.extensao\") \n",
    "\n",
    "# Criando um diretório:\n",
    "os.mkdir(\"nome_do_diretorio\", exist_ok = True)\n",
    "\n",
    "# Criando uma árvore de diretórios:\n",
    "# Seu funcionamento se baseia em torno da existência ou não da última pasta no parâmetro\n",
    "os.mkdirs(\"nome_do_diretorio_mãe\\nome_do_segundo_diretorio\\nome_do_terceiro\") \n",
    "\n",
    "# Todos os comandos acima não funcionam em Mac OS, e além disso, é utilizado para criar novos arquivos/diretórios, senão FileExistsError; para não dar FileExistsError, usar o parâmetro exist_ok = True\n",
    "\n",
    "# Deletando arquivos:\n",
    "os.remove(\"nome_do_arquivo.extensao\")\n",
    "\n",
    "# Deletando diretórios:\n",
    "# As pastas precisam existir e estarem vazias\n",
    "os.rmdir(\"nome_do_diretorio\")\n",
    "\n",
    "# Deletando árvore de diretórios:\n",
    "# As pastas precisam existir e estarem vazias\n",
    "os.removedirs(\"nome_do_diretorio_mãe\\nome_do_segundo_diretorio\\nome_do_terceiro\")"
   ]
  },
  {
   "cell_type": "code",
   "execution_count": null,
   "metadata": {},
   "outputs": [],
   "source": [
    "# ------------ Iterators e Iterables ------------\n",
    "# Os Iterables são objetos que retornam iterators quando a função iter() for chamada. Já os Iterators são objetos que podem ser iterados e retornam um dado quando a função next() é chamada\n",
    "\n",
    "fruta = 'kiwi'  # iterable\n",
    "letrasFruta = ['k', 'i', 'w', 'i']  # iterable\n",
    "\n",
    "# print(next(fruta))  # TypeError\n",
    "# print(next(letrasFruta))  # TypeError\n",
    "\n",
    "it1 = iter(fruta)  # iterator\n",
    "it2 = iter(letrasFruta)  # iterator\n",
    "\n",
    "print(type(it1))\n",
    "print(type(it2))\n",
    "\n",
    "print(next(it1))\n",
    "print(next(it1))\n",
    "print(next(it1))\n",
    "print(next(it1))\n",
    "\n",
    "print()\n",
    "print(next(it2))\n",
    "print(next(it2))\n",
    "print(next(it2))\n",
    "print(next(it2))\n",
    "\n",
    "# O next funciona como um loop for i in iterator\n",
    "\n",
    "# Criando um próprio loop\n",
    "def novo_for(iterable):\n",
    "    it = iter(iterable)\n",
    "    while True:\n",
    "        try:\n",
    "            print(next(it))\n",
    "        except StopIteration:\n",
    "            break\n",
    "\n",
    "print(\"\\nUsando novo loop:\")\n",
    "novo_for(fruta)"
   ]
  },
  {
   "cell_type": "code",
   "execution_count": null,
   "metadata": {},
   "outputs": [],
   "source": [
    "# ------------ Generator Function ------------\n",
    "# Uma Generator Function retorna um Gerador. Sua diferença para a função normal é que esse tipo de função utiliza yield (que pode ser utilizado múltiplas vezes). Na Generator Function a função continua viva, o yield \"segura\" o valor do iterator, o qual é incrementado pelo next()\n",
    "# Além disso, as Generator Functions ocupam muito menos memória e são muito mais rápidos\n",
    "def generator(valor):\n",
    "    contador = 1\n",
    "    while contador <= valor:\n",
    "        yield contador\n",
    "        contador += 1\n",
    "\n",
    "\n",
    "gen = generator(5)\n",
    "\n",
    "print(next(gen))\n",
    "print(next(gen))\n",
    "\n",
    "print(\"--\")\n",
    "for num in gen:\n",
    "    print(num)"
   ]
  },
  {
   "cell_type": "code",
   "execution_count": null,
   "metadata": {},
   "outputs": [],
   "source": [
    "# Generator Expression\n",
    "# Versão de comprehension do Generator, são muito mais rápidas que os demais comprehensions\n",
    "import time\n",
    "\n",
    "gen_inicio = time.time()\n",
    "print(sum(num for num in range(100000000)))\n",
    "gen_tempo = time.time() - gen_inicio\n",
    "\n",
    "list_inicio = time.time()\n",
    "print(sum([num for num in range(100000000)]))\n",
    "list_tempo = time.time() - list_inicio\n",
    "\n",
    "print(f\"Tempo do Generator Expression: {gen_tempo}\")\n",
    "print(f\"Tempo da List Comprehension: {list_tempo}\")"
   ]
  },
  {
   "cell_type": "code",
   "execution_count": null,
   "metadata": {},
   "outputs": [],
   "source": [
    "# ------ Higher Order Functions (HOF) ------\n",
    "# São funções que interagem com outras funções, sendo essa interação por parâmetro, return, chamando etc\n",
    "\n",
    "# Nested Functions \n",
    "# Quando uma função possui outras funções dentro dela\n",
    "\n",
    "# Inner Functions\n",
    "# São as funções de dentro das Nested Functions"
   ]
  }
 ],
 "metadata": {
  "kernelspec": {
   "display_name": "Python 3.10.4 64-bit",
   "language": "python",
   "name": "python3"
  },
  "language_info": {
   "codemirror_mode": {
    "name": "ipython",
    "version": 3
   },
   "file_extension": ".py",
   "mimetype": "text/x-python",
   "name": "python",
   "nbconvert_exporter": "python",
   "pygments_lexer": "ipython3",
   "version": "3.10.4"
  },
  "orig_nbformat": 4,
  "vscode": {
   "interpreter": {
    "hash": "e520b3ff7cf246111ae6aaa8c952e6cb93639346388a365209613764d9559090"
   }
  }
 },
 "nbformat": 4,
 "nbformat_minor": 2
}
